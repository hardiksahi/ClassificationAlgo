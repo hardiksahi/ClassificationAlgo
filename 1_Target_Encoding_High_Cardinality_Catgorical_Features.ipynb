{
  "nbformat": 4,
  "nbformat_minor": 0,
  "metadata": {
    "colab": {
      "provenance": [],
      "authorship_tag": "ABX9TyMRkx2Ynoi8LRbCPg0CUZNW",
      "include_colab_link": true
    },
    "kernelspec": {
      "name": "python3",
      "display_name": "Python 3"
    },
    "language_info": {
      "name": "python"
    }
  },
  "cells": [
    {
      "cell_type": "markdown",
      "metadata": {
        "id": "view-in-github",
        "colab_type": "text"
      },
      "source": [
        "<a href=\"https://colab.research.google.com/github/hardiksahi/ClassificationAlgo/blob/master/1_Target_Encoding_High_Cardinality_Catgorical_Features.ipynb\" target=\"_parent\"><img src=\"https://colab.research.google.com/assets/colab-badge.svg\" alt=\"Open In Colab\"/></a>"
      ]
    },
    {
      "cell_type": "markdown",
      "source": [
        "**High cardinality categorical features:** These are the features that have >100 levels/ categories and they are nominal in nature i.e. there is no intrinsic order in them. Examples: Zip code, Unique identofier, City, province etc."
      ],
      "metadata": {
        "id": "Oa4Wla_dCBUI"
      }
    },
    {
      "cell_type": "markdown",
      "source": [
        "**Why is it important to handle them?**:\n",
        "A lot of times these features have a lot of predictive power. Usual methods to handle categorical columns e.g. One hot encoding (1 to N encoding) are not sufficient to hanle them. The main reasons are:\n",
        "\n",
        "\n",
        "*   1 to N encoding creates boolean features corresponding to each distinct category of the feature under consideration. This means that if there are 100 categories for a feature, there will be 100 new boolean features that will be created. This leads to explosion of feature space.\n",
        "*   These created features are generally very sparse. Hence not very efficient\n",
        "\n",
        "\n",
        "*   A lot of classical ML methods like tree based methods will have to construct trees very deep to extract any predictive power from these features.\n",
        "\n",
        "Hence we need to figure out ways to get dense representation of such features that are useful in a wide variety of ML models.\n",
        "\n",
        "\n"
      ],
      "metadata": {
        "id": "IMSTZwYDCdfl"
      }
    },
    {
      "cell_type": "markdown",
      "source": [
        "**Ways to handle high cardinality features:**\n",
        "\n",
        "\n",
        "*   **Weight of Evidence Encoding**: Generally used in finance domain.\n",
        "*   **Target Encoding**: Introduced in **A Preprocessing Scheme for High-Cardinality Categorical Attributes in Classification and Prediction Problems**: https://dl.acm.org/doi/10.1145/507533.507538\n",
        "\n",
        "This notebook deals with Target Encoding\n"
      ],
      "metadata": {
        "id": "vVuI_TiSDm8B"
      }
    },
    {
      "cell_type": "markdown",
      "source": [
        "**What is Target Encoding?**: It is a type of encoding that replaces each distinct category (in an independent categorical feature) with the statistics derived from the target/output dependent variable. Hence the name.\n",
        "\n",
        "\n",
        "\n",
        "*   **Binary classification**: Y is binary [0,1]. Target Encoding transforms unique values $X_{i}$ of high cardinality categorical variable X with $S_{i}$ where,  $X_{i}$ -> $S_{i}$ = P(Y=1 | X=$X_{i}$), i is $i^{th}$ unique category.\n",
        "*   $S_{i}$ = λ($n_{X=X_{i}}$) * $n_{X=X_{i},Y=1}$/$n_{X=X_{i}}$ + (1-λ($n_{X=X_{i}}$))*$n_{Y=1}$/N,\n",
        "<p>where $n_{X=X_{i},Y=1}$/$n_{X=X_{i}}$ = P(Y=1|X=$X_{i}$) (Conditional probability) and $n_{Y=1}$/N = P(Y=1) (Marginal probability) </p>\n",
        "* λ($n_{X=X_{i}}$) is a function between 0 and 1 that decides what proportion of conditional probability and marginal probability should be blended to get final pribability $S_{i}$.\n",
        "* λ($n_{X=X_{i}}$) = 1/(1+$e^{-(n-k)/f}$). For more details  refer to paper.\n",
        "\n",
        "There are 2 main considerations while performing target encoding:\n",
        "1. **Overfitting**: Target statistics (mean) is reliable when the sample size is large. e.g. Category A has 100 samples associated with it and Category B has just 5 samples associated with it. In this case, mean calculated for Category A will be more reliable as compared to mean calulated for Category B. As a result, we need to smooth out the mean for Category B. This is generally done by additive smoothing. This means that we blend in the overall mean with the category specific mean so that there is not a lot of dependence on category specific mean. The paper https://dl.acm.org/doi/10.1145/507533.507538 describes a way to handle it. Same is implemented in https://contrib.scikit-learn.org/category_encoders/targetencoder.html. $S_{i}$ above is one possible way of additive smoothing.\n",
        "\n",
        "2. **Data leakage**: It occurs when while encoding a category of a column in a data point i, we use the target of the same data point while calculating mean (target statistic). This means that we have leaked the information from the target/ output of the datapoint into the encoded value (that will replace the category). This is generally handled by using K Fold CV where we use target statistic calculated from K-1 folds to replace categories in the Kth fold. This ensures that we are not using target/ output of Kth fold for calculating replacement for categories in the Kth fold.\n",
        "\n",
        "**Note**: Data leakage issues occur in WoE encoding as well. It is handled in exactly the same way as it is handled for Target Encoding."
      ],
      "metadata": {
        "id": "fRGsaJCuEQFL"
      }
    },
    {
      "cell_type": "markdown",
      "source": [
        "**Relevant links:**\n",
        "\n",
        "\n",
        "1.   https://gist.github.com/lmassaron/6695171ff45bae7ef7ddcdad2ad493ca,\n",
        "2. https://contrib.scikit-learn.org/category_encoders/targetencoder.html\n",
        "3. https://maxhalford.github.io/blog/target-encoding/: Basic additive smoothing to handle overfitting\n",
        "4. https://www.kaggle.com/code/ogrellier/python-target-encoding-for-categorical-features/notebook: Implementation of TE as per original paper. DOES NOT HANDLE DATA LEAKAGE\n",
        "5. https://docs.h2o.ai/h2o/latest-stable/h2o-docs/data-science/target-encoding.html\n",
        "\n"
      ],
      "metadata": {
        "id": "K0eDhKQ1bB4u"
      }
    },
    {
      "cell_type": "code",
      "source": [
        "%load_ext autoreload\n",
        "%autoreload 2"
      ],
      "metadata": {
        "id": "uilbGlv8DmY2"
      },
      "execution_count": 1,
      "outputs": []
    },
    {
      "cell_type": "code",
      "execution_count": 2,
      "metadata": {
        "colab": {
          "base_uri": "https://localhost:8080/",
          "height": 17
        },
        "id": "E9HOCA_gB46o",
        "outputId": "76728c0f-9590-4bd0-8b03-384360323828"
      },
      "outputs": [
        {
          "output_type": "display_data",
          "data": {
            "text/plain": [
              "<IPython.core.display.HTML object>"
            ],
            "text/html": [
              "<style>.container { width:100% !important; }</style>"
            ]
          },
          "metadata": {}
        }
      ],
      "source": [
        "from IPython.display import display, HTML\n",
        "display(HTML(\"<style>.container { width:100% !important; }</style>\"))"
      ]
    },
    {
      "cell_type": "code",
      "source": [
        "import numpy as np\n",
        "import pandas as pd"
      ],
      "metadata": {
        "id": "wrgum1KNcy8D"
      },
      "execution_count": 3,
      "outputs": []
    },
    {
      "cell_type": "code",
      "source": [
        "from sklearn.model_selection import train_test_split, StratifiedKFold, cross_validate\n",
        "from sklearn.ensemble import HistGradientBoostingClassifier\n",
        "from sklearn.metrics import precision_recall_curve, auc"
      ],
      "metadata": {
        "id": "KExkgbKScy-q"
      },
      "execution_count": 105,
      "outputs": []
    },
    {
      "cell_type": "code",
      "source": [
        "from sklearn.preprocessing import OrdinalEncoder, OneHotEncoder\n",
        "from sklearn.compose import ColumnTransformer\n",
        "from sklearn.pipeline import make_pipeline"
      ],
      "metadata": {
        "id": "obUH0AWVczBB"
      },
      "execution_count": 64,
      "outputs": []
    },
    {
      "cell_type": "code",
      "source": [
        "import seaborn as sns\n",
        "import matplotlib.pyplot as plt"
      ],
      "metadata": {
        "id": "GVZD9HNc4lFe"
      },
      "execution_count": 114,
      "outputs": []
    },
    {
      "cell_type": "code",
      "source": [
        "! pip install category_encoders"
      ],
      "metadata": {
        "colab": {
          "base_uri": "https://localhost:8080/"
        },
        "id": "Euzlm5FGczDH",
        "outputId": "f10fe45d-67f1-45fd-d2ee-02709c179a5f"
      },
      "execution_count": 7,
      "outputs": [
        {
          "output_type": "stream",
          "name": "stdout",
          "text": [
            "Collecting category_encoders\n",
            "  Downloading category_encoders-2.6.1-py2.py3-none-any.whl (81 kB)\n",
            "\u001b[?25l     \u001b[90m━━━━━━━━━━━━━━━━━━━━━━━━━━━━━━━━━━━━━━━━\u001b[0m \u001b[32m0.0/81.9 kB\u001b[0m \u001b[31m?\u001b[0m eta \u001b[36m-:--:--\u001b[0m\r\u001b[2K     \u001b[90m━━━━━━━━━━━━━━━━━━━━━━━━━━━━━━━━━━━━━━━━\u001b[0m \u001b[32m81.9/81.9 kB\u001b[0m \u001b[31m3.0 MB/s\u001b[0m eta \u001b[36m0:00:00\u001b[0m\n",
            "\u001b[?25hRequirement already satisfied: numpy>=1.14.0 in /usr/local/lib/python3.10/dist-packages (from category_encoders) (1.22.4)\n",
            "Requirement already satisfied: scikit-learn>=0.20.0 in /usr/local/lib/python3.10/dist-packages (from category_encoders) (1.2.2)\n",
            "Requirement already satisfied: scipy>=1.0.0 in /usr/local/lib/python3.10/dist-packages (from category_encoders) (1.10.1)\n",
            "Requirement already satisfied: statsmodels>=0.9.0 in /usr/local/lib/python3.10/dist-packages (from category_encoders) (0.13.5)\n",
            "Requirement already satisfied: pandas>=1.0.5 in /usr/local/lib/python3.10/dist-packages (from category_encoders) (1.5.3)\n",
            "Requirement already satisfied: patsy>=0.5.1 in /usr/local/lib/python3.10/dist-packages (from category_encoders) (0.5.3)\n",
            "Requirement already satisfied: python-dateutil>=2.8.1 in /usr/local/lib/python3.10/dist-packages (from pandas>=1.0.5->category_encoders) (2.8.2)\n",
            "Requirement already satisfied: pytz>=2020.1 in /usr/local/lib/python3.10/dist-packages (from pandas>=1.0.5->category_encoders) (2022.7.1)\n",
            "Requirement already satisfied: six in /usr/local/lib/python3.10/dist-packages (from patsy>=0.5.1->category_encoders) (1.16.0)\n",
            "Requirement already satisfied: joblib>=1.1.1 in /usr/local/lib/python3.10/dist-packages (from scikit-learn>=0.20.0->category_encoders) (1.2.0)\n",
            "Requirement already satisfied: threadpoolctl>=2.0.0 in /usr/local/lib/python3.10/dist-packages (from scikit-learn>=0.20.0->category_encoders) (3.1.0)\n",
            "Requirement already satisfied: packaging>=21.3 in /usr/local/lib/python3.10/dist-packages (from statsmodels>=0.9.0->category_encoders) (23.1)\n",
            "Installing collected packages: category_encoders\n",
            "Successfully installed category_encoders-2.6.1\n"
          ]
        }
      ]
    },
    {
      "cell_type": "code",
      "source": [
        "from category_encoders import TargetEncoder"
      ],
      "metadata": {
        "id": "dFvsDWz5czFL"
      },
      "execution_count": 8,
      "outputs": []
    },
    {
      "cell_type": "code",
      "source": [
        "from google.colab import drive\n",
        "drive.mount('/content/drive')"
      ],
      "metadata": {
        "colab": {
          "base_uri": "https://localhost:8080/"
        },
        "id": "KoF7bz69djXW",
        "outputId": "8b045984-6db0-4b96-aae1-748c016dc350"
      },
      "execution_count": 9,
      "outputs": [
        {
          "output_type": "stream",
          "name": "stdout",
          "text": [
            "Mounted at /content/drive\n"
          ]
        }
      ]
    },
    {
      "cell_type": "code",
      "source": [
        "#! ls /content/drive/MyDrive/ColabNotebooks/Github"
      ],
      "metadata": {
        "colab": {
          "base_uri": "https://localhost:8080/"
        },
        "id": "arzxkelkgd7n",
        "outputId": "c98e6d8b-8a9e-423a-f61c-6722c1093f5a"
      },
      "execution_count": 30,
      "outputs": [
        {
          "output_type": "stream",
          "name": "stdout",
          "text": [
            "1_Target_Encoding_High_Cardinality_Catgorical_Features.ipynb  titanic.csv\n"
          ]
        }
      ]
    },
    {
      "cell_type": "code",
      "source": [
        "## Titanic path: https://s3.amazonaws.com/h2o-public-test-data/smalldata/gbm_test/titanic.csv\n",
        "df = pd.read_csv(\"/content/drive/MyDrive/ColabNotebooks/Github/titanic.csv\")"
      ],
      "metadata": {
        "id": "GhCs85wQdjdF"
      },
      "execution_count": 10,
      "outputs": []
    },
    {
      "cell_type": "markdown",
      "source": [
        "## Step 1: Define output column"
      ],
      "metadata": {
        "id": "1V-zWkZ_hxnl"
      }
    },
    {
      "cell_type": "code",
      "source": [
        "output_column = 'survived'"
      ],
      "metadata": {
        "id": "ByLlPYyWgIIl"
      },
      "execution_count": 11,
      "outputs": []
    },
    {
      "cell_type": "markdown",
      "source": [
        "## Step 2: Split data into train and test set"
      ],
      "metadata": {
        "id": "8vnqNrgjh0by"
      }
    },
    {
      "cell_type": "code",
      "source": [
        "X = df.copy()\n",
        "y = df[output_column]\n",
        "X_train, X_test, y_train, y_test = train_test_split(X, y, test_size=0.2, random_state=42, stratify=y)\n",
        "print(f'Shape of X_train: {X_train.shape}')\n",
        "print(f'Shape of X_test: {X_test.shape}')"
      ],
      "metadata": {
        "colab": {
          "base_uri": "https://localhost:8080/"
        },
        "id": "5CVDXzJng430",
        "outputId": "039a389b-78cb-48c3-9754-c7cd4741f94d"
      },
      "execution_count": 12,
      "outputs": [
        {
          "output_type": "stream",
          "name": "stdout",
          "text": [
            "Shape of X_train: (1047, 14)\n",
            "Shape of X_test: (262, 14)\n"
          ]
        }
      ]
    },
    {
      "cell_type": "markdown",
      "source": [
        "## Step 3: Decide columns to target encode"
      ],
      "metadata": {
        "id": "38CCYzxyh2Z0"
      }
    },
    {
      "cell_type": "code",
      "source": [
        "te_columns = [\"home.dest\", \"cabin\", \"embarked\"]"
      ],
      "metadata": {
        "id": "6ulQbjgOg46T"
      },
      "execution_count": 13,
      "outputs": []
    },
    {
      "cell_type": "markdown",
      "source": [
        "## Step 4: Use TE to encode columns mentioned in te_columns. TargetEncoder implementation handles overfitting. We will ensure that there is no data leakage by K fold CV\n"
      ],
      "metadata": {
        "id": "PFa4JhCWh3uY"
      }
    },
    {
      "cell_type": "code",
      "source": [
        "def add_noise(series, noise_level):\n",
        "  return series * (1 + noise_level * np.random.randn(len(series)))"
      ],
      "metadata": {
        "id": "bmaa_d1ZGWVn"
      },
      "execution_count": 14,
      "outputs": []
    },
    {
      "cell_type": "code",
      "source": [
        "def perform_target_encoding(train_df, target_col, test_df, columns_to_encode, encode_data_type ='train', handle_data_leakage='k_fold', folds=5, noise_params={'noise_level':0.01}, param_dict={'smoothing':10, 'min_samples_leaf':20}):\n",
        "  assert train_df is not None and len(train_df)>0, 'Please pass train_data'\n",
        "  assert target_col is not None, 'Please pass target_col'\n",
        "  assert target_col in train_df.columns, f'Please ensure that {target_col} is a part of train_df'\n",
        "  assert all([col in train_df.columns for col in columns_to_encode]), f'Please ensure columns: {columns_to_encode} are present in train_df'\n",
        "  assert encode_data_type in ['train', 'test'], f'encode_data_type: {encode_data_type} not supported'\n",
        "\n",
        "  if encode_data_type == 'train':\n",
        "    ## perform K fold CV to encode training data with TE\n",
        "    if handle_data_leakage == 'k_fold' and folds>1:\n",
        "      train_labels_data = train_df[target_col]\n",
        "      skf = StratifiedKFold(n_splits=folds, random_state=42, shuffle=True)\n",
        "      encode_train_df_list = []\n",
        "\n",
        "      for i, (train_index, val_index) in enumerate(skf.split(train_df, train_labels_data)):\n",
        "        print(f'[START] Encoding fold number: {i}')\n",
        "        if param_dict is not None:\n",
        "          #handle_missing='value': Tells encoder to replace NA in column with global mean\n",
        "          #handle_unknown='value': Tells encoder to replace unknown/ unseen category during fitting with global mean\n",
        "          enc = TargetEncoder(cols=columns_to_encode, handle_missing='value', handle_unknown='value', return_df=True, **param_dict)\n",
        "        else:\n",
        "          ## smoothing: parameter 𝑓 in definition of lambda => How smoothly do we transition between conditional and global mean\n",
        "          ## min_samples_leaf: parameter k in definition of lambda => Half of number of samples for which we have complete faith in conditional probability.\n",
        "          enc = TargetEncoder(cols=columns_to_encode, handle_missing='value', handle_unknown='value', return_df=True, smoothing=10, min_samples_leaf=20)\n",
        "\n",
        "        ## Get data to be encoded with TE (kth fold)\n",
        "        kth_fold_train_df = train_df.iloc[val_index]\n",
        "        ## Get remaining k-1 folds that will be used to calculate mean values for categories\n",
        "        remaining_folds_train_df = train_df.iloc[train_index]\n",
        "        remaining_folds_labels_data = train_df[target_col].iloc[train_index]\n",
        "\n",
        "        ## Fit TE on remaining_folds_train_df and remaining_folds_labels_data\n",
        "        enc.fit(remaining_folds_train_df, remaining_folds_labels_data)\n",
        "\n",
        "        ## Transform kth_fold_train_df\n",
        "        kth_fold_encoded_train_df = enc.transform(kth_fold_train_df)\n",
        "\n",
        "        ## Ensure that raw values/ categories in columns_to_encode are also returned\n",
        "        print(f'Concatenate raw columns to target encoded df')\n",
        "        encoded_column_names = [f'{col}_target_encoded' for col in columns_to_encode]\n",
        "        kth_fold_encoded_train_df = kth_fold_encoded_train_df.rename(columns=dict(zip(columns_to_encode, encoded_column_names)))\n",
        "        raw_columns_df = kth_fold_train_df[columns_to_encode]\n",
        "        kth_fold_encoded_train_df = pd.concat([kth_fold_encoded_train_df, raw_columns_df], axis=1)\n",
        "\n",
        "        ## Add gaussian noise to data\n",
        "        if noise_params is not None:\n",
        "          print(f'Adding Gaussian noise to TE columns')\n",
        "          for col in encoded_column_names:\n",
        "            kth_fold_encoded_train_df[col] = add_noise(kth_fold_encoded_train_df[col], noise_params['noise_level'])\n",
        "\n",
        "        encode_train_df_list.append(kth_fold_encoded_train_df)\n",
        "        print(f'===[END] Encoding fold number: {i}===')\n",
        "\n",
        "      ## Concatenate encode_train_df_list\n",
        "      final_encoded_train_df = pd.concat(encode_train_df_list, axis=0)\n",
        "      return final_encoded_train_df.reindex(train_df.index)\n",
        "\n",
        "  elif encode_data_type == 'test':\n",
        "    assert test_df is not None and len(test_df)>0, 'Please pass test_df'\n",
        "    assert all([col in test_df.columns for col in columns_to_encode]), f'Please ensure columns: {columns_to_encode} are present in test_df'\n",
        "\n",
        "    print(f'[START] Encoding Test data')\n",
        "    if param_dict is not None:\n",
        "      #handle_missing='value': Tells encoder to replace NA in column with global mean\n",
        "      #handle_unknown='value': Tells encoder to replace unknown/ unseen category during fitting with global mean\n",
        "      enc = TargetEncoder(cols=columns_to_encode, handle_missing='value', handle_unknown='value', return_df=True, **param_dict)\n",
        "    else:\n",
        "      ## smoothing: parameter 𝑓 in definition of lambda => How smoothly do we transition between conditional and global mean\n",
        "      ## min_samples_leaf: parameter k in definition of lambda => Half of number of samples for which we have complete faith in conditional probability.\n",
        "      enc = TargetEncoder(cols=columns_to_encode, handle_missing='value', handle_unknown='value', return_df=True, smoothing=10, min_samples_leaf=20)\n",
        "\n",
        "    ## Fit train_df on enc\n",
        "    train_label_data = train_df[target_col]\n",
        "    enc.fit(train_df, train_label_data)\n",
        "\n",
        "    ## Tranform test_df\n",
        "    encoded_test_df = enc.transform(test_df)\n",
        "\n",
        "    ## Update the column names in test_encoded_train_df\n",
        "    encoded_column_names = [f'{col}_target_encoded' for col in columns_to_encode]\n",
        "    encoded_test_df = encoded_test_df.rename(columns=dict(zip(columns_to_encode, encoded_column_names)))\n",
        "\n",
        "    ## Ensure that raw columns are also returned\n",
        "    print(f'Concatenate raw columns to target encoded df')\n",
        "    raw_columns_df = test_df[columns_to_encode]\n",
        "    encoded_test_df = pd.concat([encoded_test_df, raw_columns_df], axis=1)\n",
        "\n",
        "    ## Add gaussian noise to data\n",
        "    if noise_params is not None:\n",
        "      print(f'Adding Gaussian noise to TE columns')\n",
        "      for col in encoded_column_names:\n",
        "        encoded_test_df[col] = add_noise(encoded_test_df[col], noise_params['noise_level'])\n",
        "\n",
        "    print(f'[END] Encoding Test data')\n",
        "\n",
        "    return encoded_test_df.reindex(test_df.index)\n"
      ],
      "metadata": {
        "id": "-cQHa2rHg48g"
      },
      "execution_count": 35,
      "outputs": []
    },
    {
      "cell_type": "code",
      "source": [
        "te_X_train_df = perform_target_encoding(X_train, output_column, X_test, te_columns, encode_data_type ='train', handle_data_leakage='k_fold', folds=5, noise_params={'noise_level':0.01}, param_dict={'smoothing':10, 'min_samples_leaf':20})\n",
        "print(f'Shape of te_X_train_df: {te_X_train_df.shape}')"
      ],
      "metadata": {
        "colab": {
          "base_uri": "https://localhost:8080/"
        },
        "id": "CM79A-OdLSF-",
        "outputId": "a81040d9-0a08-4c18-a16b-2306d9a96ebd"
      },
      "execution_count": 44,
      "outputs": [
        {
          "output_type": "stream",
          "name": "stdout",
          "text": [
            "[START] Encoding fold number: 0\n",
            "Concatenate raw columns to target encoded df\n",
            "Adding Gaussian noise to TE columns\n",
            "===[END] Encoding fold number: 0===\n",
            "[START] Encoding fold number: 1\n",
            "Concatenate raw columns to target encoded df\n",
            "Adding Gaussian noise to TE columns\n",
            "===[END] Encoding fold number: 1===\n",
            "[START] Encoding fold number: 2\n",
            "Concatenate raw columns to target encoded df\n",
            "Adding Gaussian noise to TE columns\n",
            "===[END] Encoding fold number: 2===\n",
            "[START] Encoding fold number: 3\n",
            "Concatenate raw columns to target encoded df\n",
            "Adding Gaussian noise to TE columns\n",
            "===[END] Encoding fold number: 3===\n",
            "[START] Encoding fold number: 4\n",
            "Concatenate raw columns to target encoded df\n",
            "Adding Gaussian noise to TE columns\n",
            "===[END] Encoding fold number: 4===\n",
            "Shape of te_X_train_df: (1047, 17)\n"
          ]
        }
      ]
    },
    {
      "cell_type": "code",
      "source": [
        "te_X_test_df = perform_target_encoding(X_train, output_column, X_test, te_columns, encode_data_type ='test', noise_params={'noise_level':0.01}, param_dict={'smoothing':10, 'min_samples_leaf':20})\n",
        "print(f'Shape of te_X_test_df: {te_X_test_df.shape}')"
      ],
      "metadata": {
        "colab": {
          "base_uri": "https://localhost:8080/"
        },
        "id": "q6EuMwzXMgaY",
        "outputId": "8ab502a7-21e0-4e02-c18a-7ad458cf9554"
      },
      "execution_count": 45,
      "outputs": [
        {
          "output_type": "stream",
          "name": "stdout",
          "text": [
            "[START] Encoding Test data\n",
            "Concatenate raw columns to target encoded df\n",
            "Adding Gaussian noise to TE columns\n",
            "[END] Encoding Test data\n",
            "Shape of te_X_test_df: (262, 17)\n"
          ]
        }
      ]
    },
    {
      "cell_type": "markdown",
      "source": [
        "## Step 5: Encode remaining columns using sklearn transformer"
      ],
      "metadata": {
        "id": "AevRSTqsRC5g"
      }
    },
    {
      "cell_type": "code",
      "source": [
        "te_X_train_df.columns"
      ],
      "metadata": {
        "colab": {
          "base_uri": "https://localhost:8080/"
        },
        "id": "inm2_HLHUmXU",
        "outputId": "64cdc5b2-e8f6-410e-ec99-2efbcfeb3add"
      },
      "execution_count": 48,
      "outputs": [
        {
          "output_type": "execute_result",
          "data": {
            "text/plain": [
              "Index(['pclass', 'survived', 'name', 'sex', 'age', 'sibsp', 'parch', 'ticket',\n",
              "       'fare', 'cabin_target_encoded', 'embarked_target_encoded', 'boat',\n",
              "       'body', 'home.dest_target_encoded', 'home.dest', 'cabin', 'embarked'],\n",
              "      dtype='object')"
            ]
          },
          "metadata": {},
          "execution_count": 48
        }
      ]
    },
    {
      "cell_type": "code",
      "source": [
        "ordinal_categorical_columns = ['pclass']\n",
        "one_hot_categorical_column = [\"sex\"]\n",
        "numerical_columns = ['age', 'sibsp', 'parch', 'fare', 'cabin_target_encoded', 'embarked_target_encoded', 'home.dest_target_encoded']"
      ],
      "metadata": {
        "id": "KTfURHhWUwvj"
      },
      "execution_count": 60,
      "outputs": []
    },
    {
      "cell_type": "code",
      "source": [
        "mixed_preprocessor = ColumnTransformer([(\"numerical\", \"passthrough\", numerical_columns), (\"ordinal_encoding\", OrdinalEncoder(handle_unknown=\"use_encoded_value\", unknown_value=-1), ordinal_categorical_columns), (\"one_hot_encoding\", OneHotEncoder(handle_unknown=\"ignore\", max_categories=20, sparse_output=False), one_hot_categorical_column)], verbose_feature_names_out=False)\n",
        "mixed_preprocessor.set_output(transform=\"pandas\")"
      ],
      "metadata": {
        "colab": {
          "base_uri": "https://localhost:8080/",
          "height": 141
        },
        "id": "npsqQTv_Q5At",
        "outputId": "5893b497-c6a7-4ac8-baa0-875830463fd1"
      },
      "execution_count": 68,
      "outputs": [
        {
          "output_type": "execute_result",
          "data": {
            "text/plain": [
              "ColumnTransformer(transformers=[('numerical', 'passthrough',\n",
              "                                 ['age', 'sibsp', 'parch', 'fare',\n",
              "                                  'cabin_target_encoded',\n",
              "                                  'embarked_target_encoded',\n",
              "                                  'home.dest_target_encoded']),\n",
              "                                ('ordinal_encoding',\n",
              "                                 OrdinalEncoder(handle_unknown='use_encoded_value',\n",
              "                                                unknown_value=-1),\n",
              "                                 ['pclass']),\n",
              "                                ('one_hot_encoding',\n",
              "                                 OneHotEncoder(handle_unknown='ignore',\n",
              "                                               max_categories=20,\n",
              "                                               sparse_output=False),\n",
              "                                 ['sex'])],\n",
              "                  verbose_feature_names_out=False)"
            ],
            "text/html": [
              "<style>#sk-container-id-2 {color: black;background-color: white;}#sk-container-id-2 pre{padding: 0;}#sk-container-id-2 div.sk-toggleable {background-color: white;}#sk-container-id-2 label.sk-toggleable__label {cursor: pointer;display: block;width: 100%;margin-bottom: 0;padding: 0.3em;box-sizing: border-box;text-align: center;}#sk-container-id-2 label.sk-toggleable__label-arrow:before {content: \"▸\";float: left;margin-right: 0.25em;color: #696969;}#sk-container-id-2 label.sk-toggleable__label-arrow:hover:before {color: black;}#sk-container-id-2 div.sk-estimator:hover label.sk-toggleable__label-arrow:before {color: black;}#sk-container-id-2 div.sk-toggleable__content {max-height: 0;max-width: 0;overflow: hidden;text-align: left;background-color: #f0f8ff;}#sk-container-id-2 div.sk-toggleable__content pre {margin: 0.2em;color: black;border-radius: 0.25em;background-color: #f0f8ff;}#sk-container-id-2 input.sk-toggleable__control:checked~div.sk-toggleable__content {max-height: 200px;max-width: 100%;overflow: auto;}#sk-container-id-2 input.sk-toggleable__control:checked~label.sk-toggleable__label-arrow:before {content: \"▾\";}#sk-container-id-2 div.sk-estimator input.sk-toggleable__control:checked~label.sk-toggleable__label {background-color: #d4ebff;}#sk-container-id-2 div.sk-label input.sk-toggleable__control:checked~label.sk-toggleable__label {background-color: #d4ebff;}#sk-container-id-2 input.sk-hidden--visually {border: 0;clip: rect(1px 1px 1px 1px);clip: rect(1px, 1px, 1px, 1px);height: 1px;margin: -1px;overflow: hidden;padding: 0;position: absolute;width: 1px;}#sk-container-id-2 div.sk-estimator {font-family: monospace;background-color: #f0f8ff;border: 1px dotted black;border-radius: 0.25em;box-sizing: border-box;margin-bottom: 0.5em;}#sk-container-id-2 div.sk-estimator:hover {background-color: #d4ebff;}#sk-container-id-2 div.sk-parallel-item::after {content: \"\";width: 100%;border-bottom: 1px solid gray;flex-grow: 1;}#sk-container-id-2 div.sk-label:hover label.sk-toggleable__label {background-color: #d4ebff;}#sk-container-id-2 div.sk-serial::before {content: \"\";position: absolute;border-left: 1px solid gray;box-sizing: border-box;top: 0;bottom: 0;left: 50%;z-index: 0;}#sk-container-id-2 div.sk-serial {display: flex;flex-direction: column;align-items: center;background-color: white;padding-right: 0.2em;padding-left: 0.2em;position: relative;}#sk-container-id-2 div.sk-item {position: relative;z-index: 1;}#sk-container-id-2 div.sk-parallel {display: flex;align-items: stretch;justify-content: center;background-color: white;position: relative;}#sk-container-id-2 div.sk-item::before, #sk-container-id-2 div.sk-parallel-item::before {content: \"\";position: absolute;border-left: 1px solid gray;box-sizing: border-box;top: 0;bottom: 0;left: 50%;z-index: -1;}#sk-container-id-2 div.sk-parallel-item {display: flex;flex-direction: column;z-index: 1;position: relative;background-color: white;}#sk-container-id-2 div.sk-parallel-item:first-child::after {align-self: flex-end;width: 50%;}#sk-container-id-2 div.sk-parallel-item:last-child::after {align-self: flex-start;width: 50%;}#sk-container-id-2 div.sk-parallel-item:only-child::after {width: 0;}#sk-container-id-2 div.sk-dashed-wrapped {border: 1px dashed gray;margin: 0 0.4em 0.5em 0.4em;box-sizing: border-box;padding-bottom: 0.4em;background-color: white;}#sk-container-id-2 div.sk-label label {font-family: monospace;font-weight: bold;display: inline-block;line-height: 1.2em;}#sk-container-id-2 div.sk-label-container {text-align: center;}#sk-container-id-2 div.sk-container {/* jupyter's `normalize.less` sets `[hidden] { display: none; }` but bootstrap.min.css set `[hidden] { display: none !important; }` so we also need the `!important` here to be able to override the default hidden behavior on the sphinx rendered scikit-learn.org. See: https://github.com/scikit-learn/scikit-learn/issues/21755 */display: inline-block !important;position: relative;}#sk-container-id-2 div.sk-text-repr-fallback {display: none;}</style><div id=\"sk-container-id-2\" class=\"sk-top-container\"><div class=\"sk-text-repr-fallback\"><pre>ColumnTransformer(transformers=[(&#x27;numerical&#x27;, &#x27;passthrough&#x27;,\n",
              "                                 [&#x27;age&#x27;, &#x27;sibsp&#x27;, &#x27;parch&#x27;, &#x27;fare&#x27;,\n",
              "                                  &#x27;cabin_target_encoded&#x27;,\n",
              "                                  &#x27;embarked_target_encoded&#x27;,\n",
              "                                  &#x27;home.dest_target_encoded&#x27;]),\n",
              "                                (&#x27;ordinal_encoding&#x27;,\n",
              "                                 OrdinalEncoder(handle_unknown=&#x27;use_encoded_value&#x27;,\n",
              "                                                unknown_value=-1),\n",
              "                                 [&#x27;pclass&#x27;]),\n",
              "                                (&#x27;one_hot_encoding&#x27;,\n",
              "                                 OneHotEncoder(handle_unknown=&#x27;ignore&#x27;,\n",
              "                                               max_categories=20,\n",
              "                                               sparse_output=False),\n",
              "                                 [&#x27;sex&#x27;])],\n",
              "                  verbose_feature_names_out=False)</pre><b>In a Jupyter environment, please rerun this cell to show the HTML representation or trust the notebook. <br />On GitHub, the HTML representation is unable to render, please try loading this page with nbviewer.org.</b></div><div class=\"sk-container\" hidden><div class=\"sk-item sk-dashed-wrapped\"><div class=\"sk-label-container\"><div class=\"sk-label sk-toggleable\"><input class=\"sk-toggleable__control sk-hidden--visually\" id=\"sk-estimator-id-8\" type=\"checkbox\" ><label for=\"sk-estimator-id-8\" class=\"sk-toggleable__label sk-toggleable__label-arrow\">ColumnTransformer</label><div class=\"sk-toggleable__content\"><pre>ColumnTransformer(transformers=[(&#x27;numerical&#x27;, &#x27;passthrough&#x27;,\n",
              "                                 [&#x27;age&#x27;, &#x27;sibsp&#x27;, &#x27;parch&#x27;, &#x27;fare&#x27;,\n",
              "                                  &#x27;cabin_target_encoded&#x27;,\n",
              "                                  &#x27;embarked_target_encoded&#x27;,\n",
              "                                  &#x27;home.dest_target_encoded&#x27;]),\n",
              "                                (&#x27;ordinal_encoding&#x27;,\n",
              "                                 OrdinalEncoder(handle_unknown=&#x27;use_encoded_value&#x27;,\n",
              "                                                unknown_value=-1),\n",
              "                                 [&#x27;pclass&#x27;]),\n",
              "                                (&#x27;one_hot_encoding&#x27;,\n",
              "                                 OneHotEncoder(handle_unknown=&#x27;ignore&#x27;,\n",
              "                                               max_categories=20,\n",
              "                                               sparse_output=False),\n",
              "                                 [&#x27;sex&#x27;])],\n",
              "                  verbose_feature_names_out=False)</pre></div></div></div><div class=\"sk-parallel\"><div class=\"sk-parallel-item\"><div class=\"sk-item\"><div class=\"sk-label-container\"><div class=\"sk-label sk-toggleable\"><input class=\"sk-toggleable__control sk-hidden--visually\" id=\"sk-estimator-id-9\" type=\"checkbox\" ><label for=\"sk-estimator-id-9\" class=\"sk-toggleable__label sk-toggleable__label-arrow\">numerical</label><div class=\"sk-toggleable__content\"><pre>[&#x27;age&#x27;, &#x27;sibsp&#x27;, &#x27;parch&#x27;, &#x27;fare&#x27;, &#x27;cabin_target_encoded&#x27;, &#x27;embarked_target_encoded&#x27;, &#x27;home.dest_target_encoded&#x27;]</pre></div></div></div><div class=\"sk-serial\"><div class=\"sk-item\"><div class=\"sk-estimator sk-toggleable\"><input class=\"sk-toggleable__control sk-hidden--visually\" id=\"sk-estimator-id-10\" type=\"checkbox\" ><label for=\"sk-estimator-id-10\" class=\"sk-toggleable__label sk-toggleable__label-arrow\">passthrough</label><div class=\"sk-toggleable__content\"><pre>passthrough</pre></div></div></div></div></div></div><div class=\"sk-parallel-item\"><div class=\"sk-item\"><div class=\"sk-label-container\"><div class=\"sk-label sk-toggleable\"><input class=\"sk-toggleable__control sk-hidden--visually\" id=\"sk-estimator-id-11\" type=\"checkbox\" ><label for=\"sk-estimator-id-11\" class=\"sk-toggleable__label sk-toggleable__label-arrow\">ordinal_encoding</label><div class=\"sk-toggleable__content\"><pre>[&#x27;pclass&#x27;]</pre></div></div></div><div class=\"sk-serial\"><div class=\"sk-item\"><div class=\"sk-estimator sk-toggleable\"><input class=\"sk-toggleable__control sk-hidden--visually\" id=\"sk-estimator-id-12\" type=\"checkbox\" ><label for=\"sk-estimator-id-12\" class=\"sk-toggleable__label sk-toggleable__label-arrow\">OrdinalEncoder</label><div class=\"sk-toggleable__content\"><pre>OrdinalEncoder(handle_unknown=&#x27;use_encoded_value&#x27;, unknown_value=-1)</pre></div></div></div></div></div></div><div class=\"sk-parallel-item\"><div class=\"sk-item\"><div class=\"sk-label-container\"><div class=\"sk-label sk-toggleable\"><input class=\"sk-toggleable__control sk-hidden--visually\" id=\"sk-estimator-id-13\" type=\"checkbox\" ><label for=\"sk-estimator-id-13\" class=\"sk-toggleable__label sk-toggleable__label-arrow\">one_hot_encoding</label><div class=\"sk-toggleable__content\"><pre>[&#x27;sex&#x27;]</pre></div></div></div><div class=\"sk-serial\"><div class=\"sk-item\"><div class=\"sk-estimator sk-toggleable\"><input class=\"sk-toggleable__control sk-hidden--visually\" id=\"sk-estimator-id-14\" type=\"checkbox\" ><label for=\"sk-estimator-id-14\" class=\"sk-toggleable__label sk-toggleable__label-arrow\">OneHotEncoder</label><div class=\"sk-toggleable__content\"><pre>OneHotEncoder(handle_unknown=&#x27;ignore&#x27;, max_categories=20, sparse_output=False)</pre></div></div></div></div></div></div></div></div></div></div>"
            ]
          },
          "metadata": {},
          "execution_count": 68
        }
      ]
    },
    {
      "cell_type": "code",
      "source": [
        "#mixed_pipe = make_pipeline(mixed_preprocessor, HistGradientBoostingClassifier())"
      ],
      "metadata": {
        "id": "1Vs7F9IgZbGh"
      },
      "execution_count": 73,
      "outputs": []
    },
    {
      "cell_type": "code",
      "source": [
        "final_encoded_X_train_df = mixed_preprocessor.fit_transform(te_X_train_df)\n",
        "final_encoded_X_test_df = mixed_preprocessor.transform(te_X_test_df)"
      ],
      "metadata": {
        "id": "44ydbDvpZbJS"
      },
      "execution_count": 78,
      "outputs": []
    },
    {
      "cell_type": "markdown",
      "source": [
        "## Step 6: Train HistGradientBoostingClassifier"
      ],
      "metadata": {
        "id": "hhJRmDFxcXc1"
      }
    },
    {
      "cell_type": "code",
      "source": [
        "clf = HistGradientBoostingClassifier(verbose=5)"
      ],
      "metadata": {
        "id": "hrT6Cho1ZbLw"
      },
      "execution_count": 79,
      "outputs": []
    },
    {
      "cell_type": "code",
      "source": [
        "clf.fit(final_encoded_X_train_df, te_X_train_df[output_column])"
      ],
      "metadata": {
        "id": "FFVZEPiNYzNc"
      },
      "execution_count": null,
      "outputs": []
    },
    {
      "cell_type": "code",
      "source": [
        "precision_te, recall_te, thresholds_te = precision_recall_curve(te_X_test_df[output_column], clf.predict_proba(final_encoded_X_test_df)[:,1])\n",
        "area_te = auc(recall_te, precision_te)\n",
        "print(f'area_te: {area_te}')"
      ],
      "metadata": {
        "colab": {
          "base_uri": "https://localhost:8080/"
        },
        "id": "XGYLGvdCQ5RU",
        "outputId": "1a406186-0d6a-46f2-e8bc-4e78f522726c"
      },
      "execution_count": 83,
      "outputs": [
        {
          "output_type": "stream",
          "name": "stdout",
          "text": [
            "area_te: 0.8193303449660214\n"
          ]
        }
      ]
    },
    {
      "cell_type": "markdown",
      "source": [
        "## The above code uses Target Encoding provided by category_encoders package. It uses exact same smoothing as mentioned in original paper"
      ],
      "metadata": {
        "id": "PlpRH3mvv7ut"
      }
    },
    {
      "cell_type": "markdown",
      "source": [
        "## Step 7: Perform K Fold CV (https://scikit-learn.org/stable/auto_examples/preprocessing/plot_target_encoder.html#sphx-glr-auto-examples-preprocessing-plot-target-encoder-py)"
      ],
      "metadata": {
        "id": "nDb-Wy3OyWs1"
      }
    },
    {
      "cell_type": "code",
      "source": [
        "def perform_cv(df, output_column, folds = 5):\n",
        "  skf = StratifiedKFold(n_splits=folds, random_state=42, shuffle=True)\n",
        "  recall_list = []\n",
        "  precision_list = []\n",
        "  auc_pr_list = []\n",
        "  for i, (train_index, val_index) in enumerate(skf.split(X, y)):\n",
        "    print(f\"Start evaluating for fold: {i}\")\n",
        "    ## Perform TE on te_columns\n",
        "    train_df = df.iloc[train_index]\n",
        "    target_encoded_train_df = perform_target_encoding(train_df, output_column, None, te_columns, encode_data_type ='train', handle_data_leakage='k_fold', folds=folds, noise_params={'noise_level':0.01}, param_dict={'smoothing':10, 'min_samples_leaf':20})\n",
        "\n",
        "    ## Perform remaining columns encoding\n",
        "    mixed_preprocessor = ColumnTransformer([(\"numerical\", \"passthrough\", numerical_columns), (\"ordinal_encoding\", OrdinalEncoder(handle_unknown=\"use_encoded_value\", unknown_value=-1), ordinal_categorical_columns), (\"one_hot_encoding\", OneHotEncoder(handle_unknown=\"ignore\", max_categories=20, sparse_output=False), one_hot_categorical_column)], verbose_feature_names_out=False)\n",
        "    mixed_preprocessor.set_output(transform=\"pandas\")\n",
        "    all_encoded_train_df = mixed_preprocessor.fit_transform(target_encoded_train_df)\n",
        "\n",
        "    ## Train classifier\n",
        "    clf = HistGradientBoostingClassifier()\n",
        "    clf.fit(all_encoded_train_df, train_df[output_column])\n",
        "\n",
        "    ## Predict on val_df\n",
        "    val_df = df.loc[val_index]\n",
        "    target_encoded_val_df = perform_target_encoding(train_df, output_column, val_df, te_columns, encode_data_type ='test', noise_params={'noise_level':0.01}, param_dict={'smoothing':10, 'min_samples_leaf':20})\n",
        "    all_encoded_val_df = mixed_preprocessor.transform(target_encoded_val_df)\n",
        "\n",
        "    ## Predict on all_encoded_val_df\n",
        "    pred_proba = clf.predict_proba(all_encoded_val_df)\n",
        "\n",
        "    precision, recall, _ = precision_recall_curve(val_df[output_column], pred_proba[:,1])\n",
        "    precision_list.append(precision)\n",
        "    recall_list.append(recall)\n",
        "\n",
        "    pr_auc = auc(recall, precision)\n",
        "    auc_pr_list.append(pr_auc)\n",
        "    # print(f'pr_auc: {pr_auc}')\n",
        "\n",
        "    print(f\"End evaluating for fold: {i}\")\n",
        "\n",
        "  return recall_list, precision_list, auc_pr_list\n"
      ],
      "metadata": {
        "id": "oiJIi-xOw77V"
      },
      "execution_count": 111,
      "outputs": []
    },
    {
      "cell_type": "code",
      "source": [
        "recall_list, precision_list, auc_pr_list = perform_cv(X, output_column, folds = 5)"
      ],
      "metadata": {
        "id": "6xGYy4jc2Nsf"
      },
      "execution_count": null,
      "outputs": []
    },
    {
      "cell_type": "markdown",
      "source": [
        "## Plot PR graph for all folds"
      ],
      "metadata": {
        "id": "zY6yaB8j4OX5"
      }
    },
    {
      "cell_type": "code",
      "source": [
        "max_len = max(len(precision) for precision in precision_list)\n",
        "precisions_arr = np.full((len(precision_list), max_len), np.nan)\n",
        "recalls_arr = np.full((len(recall_list), max_len), np.nan)\n",
        "for i in range(len(precision_list)):\n",
        "    precisions_arr[i, :len(precision_list[i])] = precision_list[i]\n",
        "    recalls_arr[i, :len(recall_list[i])] = recall_list[i]\n",
        "\n",
        "mean_precision = np.nanmean(precisions_arr, axis=0)\n",
        "mean_recall = np.nanmean(recalls_arr, axis=0)\n",
        "mean_auc_pr = auc(mean_recall, mean_precision)"
      ],
      "metadata": {
        "id": "TPW6nv1y46SS"
      },
      "execution_count": 121,
      "outputs": []
    },
    {
      "cell_type": "code",
      "source": [
        "for i in range(len(precision_list)):\n",
        "    plt.plot(recall_list[i], precision_list[i], label='Fold %d AUPR=%.4f' % (i+1, auc_pr_list[i]))\n",
        "plt.plot(mean_recall, mean_precision, label='Mean AUPR: {:.4f}'.format(mean_auc_pr))\n",
        "plt.xlabel('Recall')\n",
        "plt.ylabel('Precision')\n",
        "plt.title('Precision-Recall Curve')\n",
        "plt.legend()\n",
        "plt.show()"
      ],
      "metadata": {
        "colab": {
          "base_uri": "https://localhost:8080/",
          "height": 472
        },
        "id": "3QNkKeB94AVV",
        "outputId": "13e8a3df-b9da-4899-da3c-da23668e67e7"
      },
      "execution_count": 123,
      "outputs": [
        {
          "output_type": "display_data",
          "data": {
            "text/plain": [
              "<Figure size 640x480 with 1 Axes>"
            ],
            "image/png": "[encoded data removed]"
          },
          "metadata": {}
        }
      ]
    }
  ]
}